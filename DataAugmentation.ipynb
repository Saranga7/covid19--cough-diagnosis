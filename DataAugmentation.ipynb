{
 "cells": [
  {
   "cell_type": "code",
   "execution_count": 19,
   "metadata": {},
   "outputs": [],
   "source": [
    "import os\n",
    "import librosa\n",
    "import librosa.display\n",
    "\n",
    "import IPython.display as ipd\n",
    "\n",
    "from tqdm import tqdm\n",
    "from scipy.io.wavfile import write\n",
    "\n",
    "import matplotlib.pyplot as plt\n",
    "import numpy as np\n",
    "\n",
    "from audiomentations import Compose, TimeStretch, PitchShift, Shift, Trim, Gain, PolarityInversion"
   ]
  },
  {
   "cell_type": "code",
   "execution_count": 26,
   "metadata": {},
   "outputs": [],
   "source": [
    "augment = Compose([\n",
    "    TimeStretch(min_rate=0.7, max_rate=1.4, p=0.9),\n",
    "    PitchShift(min_semitones=-2, max_semitones=4, p=1),\n",
    "    Shift(min_fraction=-0.5, max_fraction=0.5, p=0.8),\n",
    "    Trim(p=1),Gain(p=1),\n",
    "    PolarityInversion(p=0.8)\n",
    "     \n",
    "])"
   ]
  },
  {
   "cell_type": "code",
   "execution_count": 27,
   "metadata": {},
   "outputs": [],
   "source": [
    "dataset_path=r'C:\\Users\\Saranga\\Desktop\\COVID cough\\pipeline 3\\data\\p'\n",
    "write_path=r'C:\\Users\\Saranga\\Desktop\\COVID cough\\pipeline 3\\augmentated_data\\\\'"
   ]
  },
  {
   "cell_type": "code",
   "execution_count": 28,
   "metadata": {},
   "outputs": [
    {
     "name": "stderr",
     "output_type": "stream",
     "text": [
      "\r",
      "  0%|                                                                                           | 0/75 [00:00<?, ?it/s]"
     ]
    },
    {
     "name": "stdout",
     "output_type": "stream",
     "text": [
      "Processing  C:\\Users\\Saranga\\Desktop\\COVID cough\\pipeline 3\\data\\p\n"
     ]
    },
    {
     "name": "stderr",
     "output_type": "stream",
     "text": [
      "100%|██████████████████████████████████████████████████████████████████████████████████| 75/75 [00:14<00:00,  5.33it/s]\n"
     ]
    }
   ],
   "source": [
    "sr=22050\n",
    "\n",
    "for i, (dirpath, dirnames, filenames) in enumerate(os.walk(dataset_path)):\n",
    "    print('Processing ', dirpath.split(\"/\")[-1])\n",
    "    j=226\n",
    "    for f in tqdm(filenames):\n",
    "        fpath=os.path.join(dirpath,f)\n",
    "        #print(fpath)\n",
    "        data,_=librosa.load(fpath,sr)\n",
    "        \n",
    "        if j%5==0:\n",
    "            data=augment(data,sr)\n",
    "            write(write_path+str(j)+'.wav',22050,data)\n",
    "        \n",
    "        j+=1\n",
    "        "
   ]
  },
  {
   "cell_type": "code",
   "execution_count": null,
   "metadata": {},
   "outputs": [],
   "source": []
  }
 ],
 "metadata": {
  "kernelspec": {
   "display_name": "Python 3",
   "language": "python",
   "name": "python3"
  },
  "language_info": {
   "codemirror_mode": {
    "name": "ipython",
    "version": 3
   },
   "file_extension": ".py",
   "mimetype": "text/x-python",
   "name": "python",
   "nbconvert_exporter": "python",
   "pygments_lexer": "ipython3",
   "version": "3.7.4"
  }
 },
 "nbformat": 4,
 "nbformat_minor": 2
}
