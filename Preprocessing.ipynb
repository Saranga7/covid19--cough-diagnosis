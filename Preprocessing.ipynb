{
 "cells": [
  {
   "cell_type": "code",
   "execution_count": 1,
   "metadata": {},
   "outputs": [],
   "source": [
    "import os\n",
    "import json\n",
    "import librosa\n",
    "from tqdm import tqdm\n",
    " \n",
    "import IPython.display as ipd"
   ]
  },
  {
   "cell_type": "code",
   "execution_count": 2,
   "metadata": {},
   "outputs": [],
   "source": [
    "dataset_path='data'\n",
    "json_path='mfcc15_data_audiomentations.json'"
   ]
  },
  {
   "cell_type": "code",
   "execution_count": 3,
   "metadata": {},
   "outputs": [
    {
     "name": "stderr",
     "output_type": "stream",
     "text": [
      "0it [00:00, ?it/s]\n",
      "  0%|                                                                                          | 0/965 [00:00<?, ?it/s]"
     ]
    },
    {
     "name": "stdout",
     "output_type": "stream",
     "text": [
      "Processing  data\n",
      "Processing  data\\n\n"
     ]
    },
    {
     "name": "stderr",
     "output_type": "stream",
     "text": [
      "100%|████████████████████████████████████████████████████████████████████████████████| 965/965 [03:27<00:00,  4.65it/s]\n",
      "  1%|▌                                                                                 | 2/315 [00:00<00:18, 17.04it/s]"
     ]
    },
    {
     "name": "stdout",
     "output_type": "stream",
     "text": [
      "Processing  data\\p\n"
     ]
    },
    {
     "name": "stderr",
     "output_type": "stream",
     "text": [
      "100%|████████████████████████████████████████████████████████████████████████████████| 315/315 [00:21<00:00, 14.42it/s]\n"
     ]
    }
   ],
   "source": [
    "data={\n",
    "     'mfcc':[],\n",
    "     'label':[]\n",
    "     }\n",
    "\n",
    "for i, (dirpath, dirnames, filenames) in enumerate(os.walk(dataset_path)):\n",
    "    print('Processing ', dirpath.split(\"/\")[-1])\n",
    "    for f in tqdm(filenames):\n",
    "        #print(i-1)\n",
    "        fpath=os.path.join(dirpath,f)\n",
    "        #print(fpath)\n",
    "        \n",
    "        x,sr=librosa.load(fpath,22050)\n",
    "        x=librosa.util.fix_length(x,154350)\n",
    "        mfcc=librosa.feature.mfcc(x, n_mfcc=15, n_fft=2048, hop_length=512)\n",
    "        mfcc=mfcc.T\n",
    "        \n",
    "        data['mfcc'].append(mfcc.tolist())\n",
    "        data['label'].append(i-1)\n",
    "        "
   ]
  },
  {
   "cell_type": "code",
   "execution_count": 4,
   "metadata": {},
   "outputs": [],
   "source": [
    "with open(json_path,\"w\") as fp:\n",
    "        json.dump(data,fp, indent=4)"
   ]
  },
  {
   "cell_type": "code",
   "execution_count": null,
   "metadata": {},
   "outputs": [],
   "source": []
  }
 ],
 "metadata": {
  "kernelspec": {
   "display_name": "Python 3",
   "language": "python",
   "name": "python3"
  },
  "language_info": {
   "codemirror_mode": {
    "name": "ipython",
    "version": 3
   },
   "file_extension": ".py",
   "mimetype": "text/x-python",
   "name": "python",
   "nbconvert_exporter": "python",
   "pygments_lexer": "ipython3",
   "version": "3.7.4"
  }
 },
 "nbformat": 4,
 "nbformat_minor": 2
}
