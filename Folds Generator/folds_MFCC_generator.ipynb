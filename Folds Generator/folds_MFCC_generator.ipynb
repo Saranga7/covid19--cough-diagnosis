{
 "cells": [
  {
   "cell_type": "code",
   "execution_count": 205,
   "metadata": {},
   "outputs": [],
   "source": [
    "import os\n",
    "import pandas as pd\n",
    "from tqdm import tqdm\n",
    "import pandas as pd\n",
    "import librosa\n",
    "import json"
   ]
  },
  {
   "cell_type": "code",
   "execution_count": 162,
   "metadata": {},
   "outputs": [],
   "source": [
    "df=pd.read_csv('metadata.csv')"
   ]
  },
  {
   "cell_type": "code",
   "execution_count": 165,
   "metadata": {},
   "outputs": [
    {
     "data": {
      "text/html": [
       "<div>\n",
       "<style scoped>\n",
       "    .dataframe tbody tr th:only-of-type {\n",
       "        vertical-align: middle;\n",
       "    }\n",
       "\n",
       "    .dataframe tbody tr th {\n",
       "        vertical-align: top;\n",
       "    }\n",
       "\n",
       "    .dataframe thead th {\n",
       "        text-align: right;\n",
       "    }\n",
       "</style>\n",
       "<table border=\"1\" class=\"dataframe\">\n",
       "  <thead>\n",
       "    <tr style=\"text-align: right;\">\n",
       "      <th></th>\n",
       "      <th>File_name</th>\n",
       "      <th>Covid_status</th>\n",
       "      <th>Gender</th>\n",
       "      <th>Nationality</th>\n",
       "    </tr>\n",
       "  </thead>\n",
       "  <tbody>\n",
       "    <tr>\n",
       "      <th>0</th>\n",
       "      <td>ABZpUgKz_cough</td>\n",
       "      <td>n</td>\n",
       "      <td>f</td>\n",
       "      <td>I</td>\n",
       "    </tr>\n",
       "    <tr>\n",
       "      <th>1</th>\n",
       "      <td>ACKYAaOu_cough</td>\n",
       "      <td>n</td>\n",
       "      <td>m</td>\n",
       "      <td>I</td>\n",
       "    </tr>\n",
       "    <tr>\n",
       "      <th>2</th>\n",
       "      <td>AEthVqjZ_cough</td>\n",
       "      <td>n</td>\n",
       "      <td>m</td>\n",
       "      <td>I</td>\n",
       "    </tr>\n",
       "    <tr>\n",
       "      <th>3</th>\n",
       "      <td>AFuFLsFC_cough</td>\n",
       "      <td>n</td>\n",
       "      <td>m</td>\n",
       "      <td>I</td>\n",
       "    </tr>\n",
       "    <tr>\n",
       "      <th>4</th>\n",
       "      <td>AHGDPacO_cough</td>\n",
       "      <td>p</td>\n",
       "      <td>f</td>\n",
       "      <td>I</td>\n",
       "    </tr>\n",
       "    <tr>\n",
       "      <th>...</th>\n",
       "      <td>...</td>\n",
       "      <td>...</td>\n",
       "      <td>...</td>\n",
       "      <td>...</td>\n",
       "    </tr>\n",
       "    <tr>\n",
       "      <th>1035</th>\n",
       "      <td>zuEzdVVo_cough</td>\n",
       "      <td>p</td>\n",
       "      <td>m</td>\n",
       "      <td>I</td>\n",
       "    </tr>\n",
       "    <tr>\n",
       "      <th>1036</th>\n",
       "      <td>zwWWpDNo_cough</td>\n",
       "      <td>n</td>\n",
       "      <td>m</td>\n",
       "      <td>I</td>\n",
       "    </tr>\n",
       "    <tr>\n",
       "      <th>1037</th>\n",
       "      <td>zwYEGgem_cough</td>\n",
       "      <td>n</td>\n",
       "      <td>m</td>\n",
       "      <td>I</td>\n",
       "    </tr>\n",
       "    <tr>\n",
       "      <th>1038</th>\n",
       "      <td>zzOYyYyA_cough</td>\n",
       "      <td>n</td>\n",
       "      <td>m</td>\n",
       "      <td>I</td>\n",
       "    </tr>\n",
       "    <tr>\n",
       "      <th>1039</th>\n",
       "      <td>zzTJVzBg_cough</td>\n",
       "      <td>n</td>\n",
       "      <td>m</td>\n",
       "      <td>I</td>\n",
       "    </tr>\n",
       "  </tbody>\n",
       "</table>\n",
       "<p>1040 rows × 4 columns</p>\n",
       "</div>"
      ],
      "text/plain": [
       "           File_name Covid_status Gender Nationality\n",
       "0     ABZpUgKz_cough            n      f           I\n",
       "1     ACKYAaOu_cough            n      m           I\n",
       "2     AEthVqjZ_cough            n      m           I\n",
       "3     AFuFLsFC_cough            n      m           I\n",
       "4     AHGDPacO_cough            p      f           I\n",
       "...              ...          ...    ...         ...\n",
       "1035  zuEzdVVo_cough            p      m           I\n",
       "1036  zwWWpDNo_cough            n      m           I\n",
       "1037  zwYEGgem_cough            n      m           I\n",
       "1038  zzOYyYyA_cough            n      m           I\n",
       "1039  zzTJVzBg_cough            n      m           I\n",
       "\n",
       "[1040 rows x 4 columns]"
      ]
     },
     "execution_count": 165,
     "metadata": {},
     "output_type": "execute_result"
    }
   ],
   "source": [
    "df"
   ]
  },
  {
   "cell_type": "code",
   "execution_count": 167,
   "metadata": {},
   "outputs": [],
   "source": [
    "def getIndexes(dfObj, value):\n",
    "    ''' Get index positions of value in dataframe i.e. dfObj.'''\n",
    "    listOfPos = list()\n",
    "    # Get bool dataframe with True at positions where the given value exists\n",
    "    result = dfObj.isin([value])\n",
    "    # Get list of columns that contains the value\n",
    "    seriesObj = result.any()\n",
    "    columnNames = list(seriesObj[seriesObj == True].index)\n",
    "    # Iterate over list of columns and fetch the rows indexes where value exists\n",
    "    for col in columnNames:\n",
    "        rows = list(result[col][result[col] == True].index)\n",
    "        for row in rows:\n",
    "            listOfPos.append((row, col))\n",
    "    # Return a list of tuples indicating the positions of value in the dataframe\n",
    "    return listOfPos"
   ]
  },
  {
   "cell_type": "code",
   "execution_count": 192,
   "metadata": {},
   "outputs": [],
   "source": [
    "listOfPositions = getIndexes(df, 'zzTJVzBg_cough')"
   ]
  },
  {
   "cell_type": "code",
   "execution_count": 193,
   "metadata": {},
   "outputs": [
    {
     "data": {
      "text/plain": [
       "'n'"
      ]
     },
     "execution_count": 193,
     "metadata": {},
     "output_type": "execute_result"
    }
   ],
   "source": [
    "df.Covid_status[listOfPositions[0][0]]"
   ]
  },
  {
   "cell_type": "code",
   "execution_count": 131,
   "metadata": {},
   "outputs": [],
   "source": [
    "train_path=r'C:\\Users\\Saranga\\Desktop\\COVID cough\\Folds!!!!!!!!!\\LISTS\\train_folds'"
   ]
  },
  {
   "cell_type": "code",
   "execution_count": 132,
   "metadata": {},
   "outputs": [],
   "source": [
    "train_dict={1:[],2:[],3:[],4:[],5:[]}"
   ]
  },
  {
   "cell_type": "code",
   "execution_count": 133,
   "metadata": {},
   "outputs": [
    {
     "name": "stdout",
     "output_type": "stream",
     "text": [
      "Processing  C:\\Users\\Saranga\\Desktop\\COVID cough\\Folds!!!!!!!!!\\LISTS\\train_folds\n"
     ]
    }
   ],
   "source": [
    "for i, (dirpath, dirnames, filenames) in enumerate(os.walk(train_path)):\n",
    "    print('Processing ', dirpath.split(\"/\")[-1])\n",
    "    j=1\n",
    "    for f in filenames:\n",
    "        fpath=os.path.join(dirpath,f)\n",
    "        count=0\n",
    "        file=open(fpath,'r')\n",
    "        while True:\n",
    "            count += 1\n",
    "\n",
    "            # Get next line from file\n",
    "            line = file.readline()\n",
    "\n",
    "            # if line is empty\n",
    "            # end of file is reached\n",
    "            \n",
    "            if not line:\n",
    "                j+=1\n",
    "                break\n",
    "            train_dict[j].append(line.strip())\n",
    "            #print(\"{}\".format(line.strip()))\n",
    "            #print(i)\n",
    "        \n",
    "        file.close()\n",
    "        "
   ]
  },
  {
   "cell_type": "code",
   "execution_count": null,
   "metadata": {},
   "outputs": [],
   "source": []
  },
  {
   "cell_type": "code",
   "execution_count": 134,
   "metadata": {},
   "outputs": [],
   "source": [
    "val_path=r'C:\\Users\\Saranga\\Desktop\\COVID cough\\Folds!!!!!!!!!\\LISTS\\val_folds'"
   ]
  },
  {
   "cell_type": "code",
   "execution_count": 135,
   "metadata": {},
   "outputs": [],
   "source": [
    "val_dict={1:[],2:[],3:[],4:[],5:[]}"
   ]
  },
  {
   "cell_type": "code",
   "execution_count": 136,
   "metadata": {},
   "outputs": [
    {
     "name": "stdout",
     "output_type": "stream",
     "text": [
      "Processing  C:\\Users\\Saranga\\Desktop\\COVID cough\\Folds!!!!!!!!!\\LISTS\\val_folds\n"
     ]
    }
   ],
   "source": [
    "for i, (dirpath, dirnames, filenames) in enumerate(os.walk(val_path)):\n",
    "    print('Processing ', dirpath.split(\"/\")[-1])\n",
    "    j=1\n",
    "    for f in filenames:\n",
    "        fpath=os.path.join(dirpath,f)\n",
    "        count=0\n",
    "        file=open(fpath,'r')\n",
    "        while True:\n",
    "            count += 1\n",
    "\n",
    "            # Get next line from file\n",
    "            line = file.readline()\n",
    "\n",
    "            # if line is empty\n",
    "            # end of file is reached\n",
    "            \n",
    "            if not line:\n",
    "                j+=1\n",
    "                break\n",
    "            val_dict[j].append(line.strip())\n",
    "            #print(\"{}\".format(line.strip()))\n",
    "            #print(i)\n",
    "        \n",
    "        file.close()\n",
    "        "
   ]
  },
  {
   "cell_type": "code",
   "execution_count": 149,
   "metadata": {},
   "outputs": [
    {
     "data": {
      "text/plain": [
       "218"
      ]
     },
     "execution_count": 149,
     "metadata": {},
     "output_type": "execute_result"
    }
   ],
   "source": [
    "len(val_dict[1])"
   ]
  },
  {
   "cell_type": "code",
   "execution_count": 219,
   "metadata": {},
   "outputs": [],
   "source": [
    "data_path=r'C:\\Users\\Saranga\\Desktop\\COVID cough\\DiCOVA_Train_Val_Data_Release\\AUDIO'\n",
    "train_fold_dicts=[]\n",
    "val_fold_dicts=[]"
   ]
  },
  {
   "cell_type": "code",
   "execution_count": 220,
   "metadata": {},
   "outputs": [
    {
     "name": "stderr",
     "output_type": "stream",
     "text": [
      "822it [02:26,  5.61it/s]\n",
      "822it [02:27,  5.59it/s]\n",
      "822it [02:28,  5.54it/s]\n",
      "822it [03:17,  4.17it/s]\n",
      "822it [03:33,  3.85it/s]\n"
     ]
    }
   ],
   "source": [
    "for key in train_dict.keys():\n",
    "    \n",
    "    data={\n",
    "     'mfcc':[],\n",
    "    'label':[]\n",
    "     }\n",
    "\n",
    "    for i,name in tqdm(enumerate(train_dict[key])):\n",
    "        listOfPositions = getIndexes(df, name)\n",
    "        label=df.Covid_status[listOfPositions[0][0]]\n",
    "        if label==\"n\":\n",
    "            label=0\n",
    "        else:\n",
    "            label=1\n",
    "        \n",
    "        fpath=os.path.join(data_path,name+'.flac')\n",
    "        \n",
    "        x,sr=librosa.load(fpath,22050)\n",
    "        x=librosa.util.fix_length(x,154350) #7 seconds\n",
    "        mfcc=librosa.feature.mfcc(x, n_mfcc=15, n_fft=2048, hop_length=512)\n",
    "        mfcc=mfcc.T\n",
    "        \n",
    "        data['mfcc'].append(mfcc.tolist())\n",
    "        data['label'].append(label)\n",
    "        \n",
    "    train_fold_dicts.append(data)\n",
    "    \n",
    "    \n",
    "        \n",
    "        \n",
    "        "
   ]
  },
  {
   "cell_type": "code",
   "execution_count": 221,
   "metadata": {},
   "outputs": [
    {
     "name": "stderr",
     "output_type": "stream",
     "text": [
      "100%|████████████████████████████████████████████████████████████████████████████████████| 5/5 [00:58<00:00, 11.72s/it]\n"
     ]
    }
   ],
   "source": [
    "for i in tqdm(range(0,len(train_fold_dicts))):\n",
    "    json_path=str(i+1)+'train_mfcc15.json'\n",
    "    with open(json_path,\"w\") as fp:\n",
    "        json.dump(train_fold_dicts[i],fp, indent=4)"
   ]
  },
  {
   "cell_type": "code",
   "execution_count": 222,
   "metadata": {},
   "outputs": [
    {
     "data": {
      "text/plain": [
       "dict"
      ]
     },
     "execution_count": 222,
     "metadata": {},
     "output_type": "execute_result"
    }
   ],
   "source": [
    "type(train_fold_dicts[1])"
   ]
  },
  {
   "cell_type": "code",
   "execution_count": 235,
   "metadata": {},
   "outputs": [
    {
     "data": {
      "text/plain": [
       "15"
      ]
     },
     "execution_count": 235,
     "metadata": {},
     "output_type": "execute_result"
    }
   ],
   "source": [
    "len(train_fold_dicts[1]['mfcc'][0][1])"
   ]
  },
  {
   "cell_type": "code",
   "execution_count": 244,
   "metadata": {},
   "outputs": [
    {
     "name": "stderr",
     "output_type": "stream",
     "text": [
      "218it [00:38,  5.67it/s]\n",
      "218it [00:40,  5.45it/s]\n",
      "218it [00:39,  5.52it/s]\n",
      "218it [00:40,  5.40it/s]\n",
      "218it [00:41,  5.26it/s]\n"
     ]
    }
   ],
   "source": [
    "for key in val_dict.keys():\n",
    "    \n",
    "    data={\n",
    "     'mfcc':[],\n",
    "    'label':[]\n",
    "     }\n",
    "\n",
    "    for i,name in tqdm(enumerate(val_dict[key])):\n",
    "        listOfPositions = getIndexes(df, name)\n",
    "        label=df.Covid_status[listOfPositions[0][0]]\n",
    "        if label==\"n\":\n",
    "            label=0\n",
    "        else:\n",
    "            label=1\n",
    "        \n",
    "        fpath=os.path.join(data_path,name+'.flac')\n",
    "        \n",
    "        x,sr=librosa.load(fpath,22050)\n",
    "        x=librosa.util.fix_length(x,154350) #7 seconds\n",
    "        mfcc=librosa.feature.mfcc(x, n_mfcc=15, n_fft=2048, hop_length=512)\n",
    "        mfcc=mfcc.T\n",
    "        \n",
    "        data['mfcc'].append(mfcc.tolist())\n",
    "        data['label'].append(label)\n",
    "        \n",
    "    val_fold_dicts.append(data)\n",
    "    \n",
    "    \n",
    "        \n",
    "        \n",
    "        "
   ]
  },
  {
   "cell_type": "code",
   "execution_count": 245,
   "metadata": {},
   "outputs": [
    {
     "name": "stderr",
     "output_type": "stream",
     "text": [
      "100%|████████████████████████████████████████████████████████████████████████████████████| 5/5 [00:17<00:00,  3.45s/it]\n"
     ]
    }
   ],
   "source": [
    "for i in tqdm(range(0,len(val_fold_dicts))):\n",
    "    json_path=str(i+1)+'val_mfcc15.json'\n",
    "    with open(json_path,\"w\") as fp:\n",
    "        json.dump(val_fold_dicts[i],fp, indent=4)"
   ]
  },
  {
   "cell_type": "code",
   "execution_count": 243,
   "metadata": {},
   "outputs": [
    {
     "data": {
      "text/plain": [
       "10"
      ]
     },
     "execution_count": 243,
     "metadata": {},
     "output_type": "execute_result"
    }
   ],
   "source": []
  }
 ],
 "metadata": {
  "kernelspec": {
   "display_name": "Python 3",
   "language": "python",
   "name": "python3"
  },
  "language_info": {
   "codemirror_mode": {
    "name": "ipython",
    "version": 3
   },
   "file_extension": ".py",
   "mimetype": "text/x-python",
   "name": "python",
   "nbconvert_exporter": "python",
   "pygments_lexer": "ipython3",
   "version": "3.7.4"
  }
 },
 "nbformat": 4,
 "nbformat_minor": 2
}
