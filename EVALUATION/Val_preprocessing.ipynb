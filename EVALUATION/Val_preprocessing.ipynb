{
 "cells": [
  {
   "cell_type": "code",
   "execution_count": 1,
   "metadata": {},
   "outputs": [],
   "source": [
    "import os\n",
    "import numpy as np\n",
    "import pandas as pd\n",
    "import json\n",
    "from tqdm import tqdm\n",
    "import librosa"
   ]
  },
  {
   "cell_type": "code",
   "execution_count": 2,
   "metadata": {},
   "outputs": [],
   "source": [
    "df=pd.read_csv(r'C:\\Users\\Saranga\\Desktop\\COVID cough\\DiCOVA_Train_Val_Data_Release\\EVALUATION\\Val_set.csv')"
   ]
  },
  {
   "cell_type": "code",
   "execution_count": 3,
   "metadata": {},
   "outputs": [
    {
     "data": {
      "text/html": [
       "<div>\n",
       "<style scoped>\n",
       "    .dataframe tbody tr th:only-of-type {\n",
       "        vertical-align: middle;\n",
       "    }\n",
       "\n",
       "    .dataframe tbody tr th {\n",
       "        vertical-align: top;\n",
       "    }\n",
       "\n",
       "    .dataframe thead th {\n",
       "        text-align: right;\n",
       "    }\n",
       "</style>\n",
       "<table border=\"1\" class=\"dataframe\">\n",
       "  <thead>\n",
       "    <tr style=\"text-align: right;\">\n",
       "      <th></th>\n",
       "      <th>file_name</th>\n",
       "    </tr>\n",
       "  </thead>\n",
       "  <tbody>\n",
       "    <tr>\n",
       "      <th>0</th>\n",
       "      <td>PQFgfbUS_cough</td>\n",
       "    </tr>\n",
       "    <tr>\n",
       "      <th>1</th>\n",
       "      <td>dpITIaDY_cough</td>\n",
       "    </tr>\n",
       "    <tr>\n",
       "      <th>2</th>\n",
       "      <td>IzXaepIB_cough</td>\n",
       "    </tr>\n",
       "    <tr>\n",
       "      <th>3</th>\n",
       "      <td>ZVKSsFiW_cough</td>\n",
       "    </tr>\n",
       "    <tr>\n",
       "      <th>4</th>\n",
       "      <td>LFqjhpiv_cough</td>\n",
       "    </tr>\n",
       "    <tr>\n",
       "      <th>...</th>\n",
       "      <td>...</td>\n",
       "    </tr>\n",
       "    <tr>\n",
       "      <th>1085</th>\n",
       "      <td>tWjZnGra_cough</td>\n",
       "    </tr>\n",
       "    <tr>\n",
       "      <th>1086</th>\n",
       "      <td>dAlFPhsp_cough</td>\n",
       "    </tr>\n",
       "    <tr>\n",
       "      <th>1087</th>\n",
       "      <td>gjLXOetR_cough</td>\n",
       "    </tr>\n",
       "    <tr>\n",
       "      <th>1088</th>\n",
       "      <td>WJAIhgpc_cough</td>\n",
       "    </tr>\n",
       "    <tr>\n",
       "      <th>1089</th>\n",
       "      <td>FcWxqeAl_cough</td>\n",
       "    </tr>\n",
       "  </tbody>\n",
       "</table>\n",
       "<p>1090 rows × 1 columns</p>\n",
       "</div>"
      ],
      "text/plain": [
       "           file_name\n",
       "0     PQFgfbUS_cough\n",
       "1     dpITIaDY_cough\n",
       "2     IzXaepIB_cough\n",
       "3     ZVKSsFiW_cough\n",
       "4     LFqjhpiv_cough\n",
       "...              ...\n",
       "1085  tWjZnGra_cough\n",
       "1086  dAlFPhsp_cough\n",
       "1087  gjLXOetR_cough\n",
       "1088  WJAIhgpc_cough\n",
       "1089  FcWxqeAl_cough\n",
       "\n",
       "[1090 rows x 1 columns]"
      ]
     },
     "execution_count": 3,
     "metadata": {},
     "output_type": "execute_result"
    }
   ],
   "source": [
    "df"
   ]
  },
  {
   "cell_type": "code",
   "execution_count": 5,
   "metadata": {},
   "outputs": [],
   "source": [
    "dataset_path=r'C:\\Users\\Saranga\\Desktop\\COVID cough\\DiCOVA_Train_Val_Data_Release\\AUDIO'"
   ]
  },
  {
   "cell_type": "code",
   "execution_count": 6,
   "metadata": {},
   "outputs": [
    {
     "name": "stderr",
     "output_type": "stream",
     "text": [
      "\r",
      "  0%|                                                                                         | 0/1090 [00:00<?, ?it/s]"
     ]
    },
    {
     "name": "stdout",
     "output_type": "stream",
     "text": [
      "Processing  C:\\Users\\Saranga\\Desktop\\COVID cough\\DiCOVA_Train_Val_Data_Release\\AUDIO\n"
     ]
    },
    {
     "name": "stderr",
     "output_type": "stream",
     "text": [
      "100%|██████████████████████████████████████████████████████████████████████████████| 1090/1090 [04:08<00:00,  4.39it/s]\n"
     ]
    }
   ],
   "source": [
    "data={\n",
    "     'mfcc':[]\n",
    "     }\n",
    "\n",
    "\n",
    "for i, (dirpath, dirnames, filenames) in enumerate(os.walk(dataset_path)):\n",
    "    print('Processing ', dirpath.split(\"/\")[-1])\n",
    "    for f in tqdm(df['file_name']):\n",
    "        #print(i-1)\n",
    "        fpath=os.path.join(dirpath,f+'.flac')\n",
    "        #print(fpath)\n",
    "        \n",
    "        x,sr=librosa.load(fpath,22050)\n",
    "        x=librosa.util.fix_length(x,154350)\n",
    "        mfcc=librosa.feature.mfcc(x, n_mfcc=15, n_fft=2048, hop_length=512)\n",
    "        mfcc=mfcc.T\n",
    "        \n",
    "        data['mfcc'].append(mfcc.tolist())"
   ]
  },
  {
   "cell_type": "code",
   "execution_count": 7,
   "metadata": {},
   "outputs": [],
   "source": [
    "json_path='mfcc15_val_folds.json'\n",
    "\n",
    "with open(json_path,\"w\") as fp:\n",
    "        json.dump(data,fp, indent=4)"
   ]
  },
  {
   "cell_type": "markdown",
   "metadata": {},
   "source": [
    "## Blind set preprocessing"
   ]
  },
  {
   "cell_type": "code",
   "execution_count": 8,
   "metadata": {},
   "outputs": [],
   "source": [
    "df=pd.read_csv(r'C:\\Users\\Saranga\\Desktop\\COVID cough\\DiCOVA_Train_Val_Data_Release\\EVALUATION\\test_metadata.csv')"
   ]
  },
  {
   "cell_type": "code",
   "execution_count": 9,
   "metadata": {},
   "outputs": [
    {
     "data": {
      "text/html": [
       "<div>\n",
       "<style scoped>\n",
       "    .dataframe tbody tr th:only-of-type {\n",
       "        vertical-align: middle;\n",
       "    }\n",
       "\n",
       "    .dataframe tbody tr th {\n",
       "        vertical-align: top;\n",
       "    }\n",
       "\n",
       "    .dataframe thead th {\n",
       "        text-align: right;\n",
       "    }\n",
       "</style>\n",
       "<table border=\"1\" class=\"dataframe\">\n",
       "  <thead>\n",
       "    <tr style=\"text-align: right;\">\n",
       "      <th></th>\n",
       "      <th>File_name</th>\n",
       "      <th>Covid_status</th>\n",
       "      <th>Gender</th>\n",
       "      <th>Nationality</th>\n",
       "    </tr>\n",
       "  </thead>\n",
       "  <tbody>\n",
       "    <tr>\n",
       "      <th>0</th>\n",
       "      <td>ehmkjtFk_cough</td>\n",
       "      <td>?</td>\n",
       "      <td>m</td>\n",
       "      <td>O</td>\n",
       "    </tr>\n",
       "    <tr>\n",
       "      <th>1</th>\n",
       "      <td>UCxrHdoP_cough</td>\n",
       "      <td>?</td>\n",
       "      <td>m</td>\n",
       "      <td>I</td>\n",
       "    </tr>\n",
       "    <tr>\n",
       "      <th>2</th>\n",
       "      <td>afJveyWf_cough</td>\n",
       "      <td>?</td>\n",
       "      <td>f</td>\n",
       "      <td>I</td>\n",
       "    </tr>\n",
       "    <tr>\n",
       "      <th>3</th>\n",
       "      <td>ckgXCsSh_cough</td>\n",
       "      <td>?</td>\n",
       "      <td>m</td>\n",
       "      <td>I</td>\n",
       "    </tr>\n",
       "    <tr>\n",
       "      <th>4</th>\n",
       "      <td>KprOlhNx_cough</td>\n",
       "      <td>?</td>\n",
       "      <td>m</td>\n",
       "      <td>I</td>\n",
       "    </tr>\n",
       "    <tr>\n",
       "      <th>...</th>\n",
       "      <td>...</td>\n",
       "      <td>...</td>\n",
       "      <td>...</td>\n",
       "      <td>...</td>\n",
       "    </tr>\n",
       "    <tr>\n",
       "      <th>228</th>\n",
       "      <td>WxtUSymX_cough</td>\n",
       "      <td>?</td>\n",
       "      <td>f</td>\n",
       "      <td>I</td>\n",
       "    </tr>\n",
       "    <tr>\n",
       "      <th>229</th>\n",
       "      <td>VYFvgWMm_cough</td>\n",
       "      <td>?</td>\n",
       "      <td>f</td>\n",
       "      <td>I</td>\n",
       "    </tr>\n",
       "    <tr>\n",
       "      <th>230</th>\n",
       "      <td>coWKLPUF_cough</td>\n",
       "      <td>?</td>\n",
       "      <td>f</td>\n",
       "      <td>I</td>\n",
       "    </tr>\n",
       "    <tr>\n",
       "      <th>231</th>\n",
       "      <td>XvOqdxQJ_cough</td>\n",
       "      <td>?</td>\n",
       "      <td>m</td>\n",
       "      <td>I</td>\n",
       "    </tr>\n",
       "    <tr>\n",
       "      <th>232</th>\n",
       "      <td>fyfYKFsi_cough</td>\n",
       "      <td>?</td>\n",
       "      <td>m</td>\n",
       "      <td>I</td>\n",
       "    </tr>\n",
       "  </tbody>\n",
       "</table>\n",
       "<p>233 rows × 4 columns</p>\n",
       "</div>"
      ],
      "text/plain": [
       "          File_name Covid_status Gender Nationality\n",
       "0    ehmkjtFk_cough            ?      m           O\n",
       "1    UCxrHdoP_cough            ?      m           I\n",
       "2    afJveyWf_cough            ?      f           I\n",
       "3    ckgXCsSh_cough            ?      m           I\n",
       "4    KprOlhNx_cough            ?      m           I\n",
       "..              ...          ...    ...         ...\n",
       "228  WxtUSymX_cough            ?      f           I\n",
       "229  VYFvgWMm_cough            ?      f           I\n",
       "230  coWKLPUF_cough            ?      f           I\n",
       "231  XvOqdxQJ_cough            ?      m           I\n",
       "232  fyfYKFsi_cough            ?      m           I\n",
       "\n",
       "[233 rows x 4 columns]"
      ]
     },
     "execution_count": 9,
     "metadata": {},
     "output_type": "execute_result"
    }
   ],
   "source": [
    "df"
   ]
  },
  {
   "cell_type": "code",
   "execution_count": 15,
   "metadata": {},
   "outputs": [],
   "source": [
    "dataset_path=r'C:\\Users\\Saranga\\Desktop\\COVID cough\\DiCOVA_Train_Val_Data_Release\\EVALUATION\\AUDIO'"
   ]
  },
  {
   "cell_type": "code",
   "execution_count": 16,
   "metadata": {},
   "outputs": [
    {
     "name": "stderr",
     "output_type": "stream",
     "text": [
      "\r",
      "  0%|                                                                                          | 0/233 [00:00<?, ?it/s]"
     ]
    },
    {
     "name": "stdout",
     "output_type": "stream",
     "text": [
      "Processing  C:\\Users\\Saranga\\Desktop\\COVID cough\\DiCOVA_Train_Val_Data_Release\\EVALUATION\\AUDIO\n"
     ]
    },
    {
     "name": "stderr",
     "output_type": "stream",
     "text": [
      "100%|████████████████████████████████████████████████████████████████████████████████| 233/233 [00:50<00:00,  4.58it/s]\n"
     ]
    }
   ],
   "source": [
    "data={\n",
    "     'mfcc':[]\n",
    "     }\n",
    "\n",
    "\n",
    "for i, (dirpath, dirnames, filenames) in enumerate(os.walk(dataset_path)):\n",
    "    print('Processing ', dirpath.split(\"/\")[-1])\n",
    "    for f in tqdm(df['File_name']):\n",
    "        #print(i-1)\n",
    "        fpath=os.path.join(dirpath,f+'.flac')\n",
    "        #print(fpath)\n",
    "        \n",
    "        x,sr=librosa.load(fpath,22050)\n",
    "        x=librosa.util.fix_length(x,154350)\n",
    "        mfcc=librosa.feature.mfcc(x, n_mfcc=15, n_fft=2048, hop_length=512)\n",
    "        mfcc=mfcc.T\n",
    "        \n",
    "        data['mfcc'].append(mfcc.tolist())"
   ]
  },
  {
   "cell_type": "code",
   "execution_count": 17,
   "metadata": {},
   "outputs": [],
   "source": [
    "json_path='mfcc15_blind_set.json'\n",
    "\n",
    "with open(json_path,\"w\") as fp:\n",
    "        json.dump(data,fp, indent=4)"
   ]
  }
 ],
 "metadata": {
  "kernelspec": {
   "display_name": "Python 3",
   "language": "python",
   "name": "python3"
  },
  "language_info": {
   "codemirror_mode": {
    "name": "ipython",
    "version": 3
   },
   "file_extension": ".py",
   "mimetype": "text/x-python",
   "name": "python",
   "nbconvert_exporter": "python",
   "pygments_lexer": "ipython3",
   "version": "3.7.4"
  }
 },
 "nbformat": 4,
 "nbformat_minor": 2
}
